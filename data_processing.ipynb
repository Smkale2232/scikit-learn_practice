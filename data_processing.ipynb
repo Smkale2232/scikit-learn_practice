{
 "cells": [
  {
   "cell_type": "code",
   "execution_count": 4,
   "id": "393f90e6",
   "metadata": {},
   "outputs": [],
   "source": [
    "from sklearn.preprocessing import LabelEncoder\n",
    "\n",
    "import pandas as pd\n",
    "\n",
    "df = pd.read_csv('sample_data.csv')"
   ]
  },
  {
   "cell_type": "code",
   "execution_count": 5,
   "id": "592556f6",
   "metadata": {},
   "outputs": [
    {
     "name": "stdout",
     "output_type": "stream",
     "text": [
      "\n",
      " Label Encoded Data\n",
      "      Name  Gender  Gender_Encoded Passed  Passed_Encoded\n",
      "0     Aman    Male               1    Yes               1\n",
      "1    Priya  Female               0    Yes               1\n",
      "2    Rahul    Male               1     No               0\n",
      "3   Anjali  Female               0    Yes               1\n",
      "4     Ravi    Male               1    Yes               1\n",
      "5    Meera  Female               0     No               0\n",
      "6    Arjun    Male               1    Yes               1\n",
      "7     Neha  Female               0    Yes               1\n",
      "8    Imran    Male               1     No               0\n",
      "9    Sneha  Female               0    Yes               1\n",
      "10     Raj    Male               1    Yes               1\n",
      "11   Divya  Female               0     No               0\n",
      "12   Kabir    Male               1    Yes               1\n",
      "13  Simran  Female               0    Yes               1\n",
      "14   Karan    Male               1     No               0\n",
      "15   Pooja  Female               0    Yes               1\n",
      "16  Rakesh    Male               1    Yes               1\n",
      "17    Isha  Female               0     No               0\n",
      "18   Rohit    Male               1    Yes               1\n",
      "19   Deepa  Female               0    Yes               1\n"
     ]
    }
   ],
   "source": [
    "df_label = df.copy()\n",
    "\n",
    "le = LabelEncoder()\n",
    "df_label['Gender_Encoded'] = le.fit_transform(df_label['Gender'])\n",
    "df_label['Passed_Encoded'] = le.fit_transform(df_label['Passed'])\n",
    "\n",
    "print('\\n Label Encoded Data')\n",
    "print(df_label[['Name', 'Gender', 'Gender_Encoded', 'Passed', 'Passed_Encoded']])"
   ]
  },
  {
   "cell_type": "code",
   "execution_count": 10,
   "id": "6fc8c332",
   "metadata": {},
   "outputs": [
    {
     "name": "stdout",
     "output_type": "stream",
     "text": [
      "\n",
      " One-Hot Encoded Data\n",
      "      Name  Gender Passed  Gender_Encoded  Passed_Encoded  City_Bangalore  \\\n",
      "0     Aman    Male    Yes               1               1               0   \n",
      "1    Priya  Female    Yes               0               1               0   \n",
      "2    Rahul    Male     No               1               0               1   \n",
      "3   Anjali  Female    Yes               0               1               0   \n",
      "4     Ravi    Male    Yes               1               1               0   \n",
      "5    Meera  Female     No               0               0               0   \n",
      "6    Arjun    Male    Yes               1               1               1   \n",
      "7     Neha  Female    Yes               0               1               0   \n",
      "8    Imran    Male     No               1               0               0   \n",
      "9    Sneha  Female    Yes               0               1               0   \n",
      "10     Raj    Male    Yes               1               1               0   \n",
      "11   Divya  Female     No               0               0               0   \n",
      "12   Kabir    Male    Yes               1               1               0   \n",
      "13  Simran  Female    Yes               0               1               1   \n",
      "14   Karan    Male     No               1               0               0   \n",
      "15   Pooja  Female    Yes               0               1               0   \n",
      "16  Rakesh    Male    Yes               1               1               0   \n",
      "17    Isha  Female     No               0               0               0   \n",
      "18   Rohit    Male    Yes               1               1               0   \n",
      "19   Deepa  Female    Yes               0               1               1   \n",
      "\n",
      "    City_Chennai  City_Delhi  City_Mumbai  \n",
      "0              0           1            0  \n",
      "1              0           0            1  \n",
      "2              0           0            0  \n",
      "3              0           0            1  \n",
      "4              0           1            0  \n",
      "5              1           0            0  \n",
      "6              0           0            0  \n",
      "7              0           1            0  \n",
      "8              1           0            0  \n",
      "9              0           0            1  \n",
      "10             1           0            0  \n",
      "11             0           1            0  \n",
      "12             0           0            1  \n",
      "13             0           0            0  \n",
      "14             0           1            0  \n",
      "15             0           0            1  \n",
      "16             1           0            0  \n",
      "17             0           1            0  \n",
      "18             0           1            0  \n",
      "19             0           0            0  \n"
     ]
    }
   ],
   "source": [
    "df_encoded = pd.get_dummies(df_label, columns=['City'], dtype='int')\n",
    "print('\\n One-Hot Encoded Data')\n",
    "print(df_encoded)"
   ]
  },
  {
   "cell_type": "code",
   "execution_count": 12,
   "id": "f55992ec",
   "metadata": {},
   "outputs": [
    {
     "name": "stdout",
     "output_type": "stream",
     "text": [
      "Standard Scaler Output:\n",
      "   StudyHours  TestScore\n",
      "0   -1.414214  -1.414214\n",
      "1   -0.707107  -0.707107\n",
      "2    0.000000   0.000000\n",
      "3    0.707107   0.707107\n",
      "4    1.414214   1.414214\n"
     ]
    }
   ],
   "source": [
    "import pandas as pd\n",
    "\n",
    "from sklearn.preprocessing import StandardScaler, MinMaxScaler\n",
    "from sklearn.model_selection import train_test_split\n",
    "\n",
    "data = {\n",
    "    'StudyHours': [1, 2, 3, 4, 5],\n",
    "    'TestScore': [40, 50, 60, 70, 80]\n",
    "}\n",
    "\n",
    "df = pd.DataFrame(data)\n",
    "\n",
    "#StandardScaler\n",
    "standard_scaler = StandardScaler()\n",
    "standard_scaled = standard_scaler.fit_transform(df)\n",
    "\n",
    "print('Standard Scaler Output:')\n",
    "print(pd.DataFrame(standard_scaled, columns=['StudyHours', 'TestScore']))"
   ]
  },
  {
   "cell_type": "code",
   "execution_count": 13,
   "id": "ab3d983e",
   "metadata": {},
   "outputs": [
    {
     "name": "stdout",
     "output_type": "stream",
     "text": [
      "MinMax Scaler Output:\n",
      "   StudyHours  TestScore\n",
      "0        0.00       0.00\n",
      "1        0.25       0.25\n",
      "2        0.50       0.50\n",
      "3        0.75       0.75\n",
      "4        1.00       1.00\n"
     ]
    }
   ],
   "source": [
    "minmax_scaler = MinMaxScaler()\n",
    "minmax_scaled = minmax_scaler.fit_transform(df)\n",
    "\n",
    "print('MinMax Scaler Output:')\n",
    "print(pd.DataFrame(minmax_scaled, columns=['StudyHours', 'TestScore']))"
   ]
  },
  {
   "cell_type": "code",
   "execution_count": 15,
   "id": "b7246bd8",
   "metadata": {},
   "outputs": [
    {
     "name": "stdout",
     "output_type": "stream",
     "text": [
      "Training Data\n",
      "   StudyHours\n",
      "4           5\n",
      "2           3\n",
      "0           1\n",
      "3           4\n",
      "Testing Data\n",
      "   StudyHours\n",
      "1           2\n",
      "Training Data\n",
      "   TestScore\n",
      "4         80\n",
      "2         60\n",
      "0         40\n",
      "3         70\n",
      "Testing Data\n",
      "   TestScore\n",
      "1         50\n"
     ]
    }
   ],
   "source": [
    "X = df[['StudyHours']]\n",
    "y = df[[\"TestScore\"]]\n",
    "\n",
    "X_train, X_test, y_train, y_test = train_test_split(X, y, test_size=0.2, random_state=42)\n",
    "print('Training Data')\n",
    "print(X_train)\n",
    "\n",
    "print('Testing Data')\n",
    "print(X_test)\n",
    "\n",
    "print('Training Data')\n",
    "print(y_train)\n",
    "\n",
    "print('Testing Data')\n",
    "print(y_test)"
   ]
  },
  {
   "cell_type": "code",
   "execution_count": null,
   "id": "8024bd82",
   "metadata": {},
   "outputs": [],
   "source": []
  }
 ],
 "metadata": {
  "kernelspec": {
   "display_name": "Python 3",
   "language": "python",
   "name": "python3"
  },
  "language_info": {
   "codemirror_mode": {
    "name": "ipython",
    "version": 3
   },
   "file_extension": ".py",
   "mimetype": "text/x-python",
   "name": "python",
   "nbconvert_exporter": "python",
   "pygments_lexer": "ipython3",
   "version": "3.11.9"
  }
 },
 "nbformat": 4,
 "nbformat_minor": 5
}
