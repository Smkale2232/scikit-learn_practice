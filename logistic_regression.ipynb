{
 "cells": [
  {
   "cell_type": "code",
   "execution_count": null,
   "id": "78156150",
   "metadata": {},
   "outputs": [
    {
     "name": "stdout",
     "output_type": "stream",
     "text": [
      "Based on the 10.0 you studied you are likely to Pass\n"
     ]
    }
   ],
   "source": [
    "from sklearn.linear_model import LogisticRegression\n",
    "\n",
    "X = [[1], [2], [3], [4], [5]]\n",
    "y = [0, 0, 1, 1, 1]          #0 = fail, 1 = pass\n",
    "\n",
    "model = LogisticRegression()\n",
    "\n",
    "model.fit(X, y)\n",
    "\n",
    "hours = float(input('Enter number of hours you studied: '))\n",
    "\n",
    "result = model.predict([[hours]])[0]\n",
    "\n",
    "if result == 1:\n",
    "    print(f'Based on the {hours} hours you studied, you are likely to Pass')\n",
    "else:\n",
    "    print(f'Based on the {hours} hours you studied you, are likely to Fail')"
   ]
  }
 ],
 "metadata": {
  "kernelspec": {
   "display_name": "Python 3",
   "language": "python",
   "name": "python3"
  },
  "language_info": {
   "codemirror_mode": {
    "name": "ipython",
    "version": 3
   },
   "file_extension": ".py",
   "mimetype": "text/x-python",
   "name": "python",
   "nbconvert_exporter": "python",
   "pygments_lexer": "ipython3",
   "version": "3.11.9"
  }
 },
 "nbformat": 4,
 "nbformat_minor": 5
}
