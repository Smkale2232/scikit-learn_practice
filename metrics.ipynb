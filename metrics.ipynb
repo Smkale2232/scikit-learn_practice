{
 "cells": [
  {
   "cell_type": "code",
   "execution_count": 3,
   "id": "4f286f40",
   "metadata": {},
   "outputs": [
    {
     "name": "stdout",
     "output_type": "stream",
     "text": [
      "Accuracy Score:  0.8571428571428571\n",
      "Precision Score:  1.0\n",
      "Recall Score:  0.75\n",
      "F1 Score:  0.8571428571428571\n"
     ]
    }
   ],
   "source": [
    "from sklearn.metrics import accuracy_score, precision_score, recall_score, f1_score\n",
    "\n",
    "y_true = [1, 0, 1, 1, 0, 0, 1]\n",
    "\n",
    "y_pred = [1, 0, 1, 0, 0, 0, 1]\n",
    "\n",
    "print('Accuracy Score: ', accuracy_score(y_true, y_pred))\n",
    "print('Precision Score: ', precision_score(y_true, y_pred))\n",
    "print('Recall Score: ', recall_score(y_true, y_pred))\n",
    "print('F1 Score: ', f1_score(y_true, y_pred))"
   ]
  },
  {
   "cell_type": "code",
   "execution_count": 8,
   "id": "014fd102",
   "metadata": {},
   "outputs": [
    {
     "name": "stdout",
     "output_type": "stream",
     "text": [
      "Confusion Metrics: \n",
      "[[4 1]\n",
      " [2 4]]\n"
     ]
    }
   ],
   "source": [
    "from sklearn.metrics import confusion_matrix\n",
    "\n",
    "y_true = [1, 0, 1, 1, 0, 1, 0, 0, 1, 0, 1]\n",
    "\n",
    "y_pred = [1, 0, 1, 0, 0, 1, 1, 0, 1, 0, 0]\n",
    "\n",
    "cm = confusion_matrix(y_true, y_pred)\n",
    "\n",
    "print('Confusion Metrics: ')\n",
    "print(cm)"
   ]
  },
  {
   "cell_type": "code",
   "execution_count": 9,
   "id": "f3009421",
   "metadata": {},
   "outputs": [
    {
     "data": {
      "image/png": "[encoded data removed]",
      "text/plain": [
       "<Figure size 640x480 with 2 Axes>"
      ]
     },
     "metadata": {},
     "output_type": "display_data"
    }
   ],
   "source": [
    "import matplotlib.pyplot as plt\n",
    "from sklearn.metrics import ConfusionMatrixDisplay\n",
    "\n",
    "ConfusionMatrixDisplay.from_predictions(y_true, y_pred, cmap=\"Blues\")\n",
    "plt.title(\"Confusion Matrix\")\n",
    "plt.show()"
   ]
  },
  {
   "cell_type": "code",
   "execution_count": 10,
   "id": "1260dddd",
   "metadata": {},
   "outputs": [
    {
     "name": "stdout",
     "output_type": "stream",
     "text": [
      "MAE:  7.5\n",
      "MSE:  75.0\n",
      "RMSE:  8.660254037844387\n"
     ]
    }
   ],
   "source": [
    "from sklearn.metrics import mean_absolute_error, mean_squared_error\n",
    "import numpy as np\n",
    "\n",
    "real_scores = [90, 70, 85, 100]\n",
    "\n",
    "predicted_scores = [85, 75, 70, 95]\n",
    "\n",
    "mae = mean_absolute_error(real_scores, predicted_scores)\n",
    "mse = mean_squared_error(real_scores, predicted_scores)\n",
    "rmse = np.sqrt(mse)\n",
    "\n",
    "print('MAE: ', mae)\n",
    "print('MSE: ', mse)\n",
    "print('RMSE: ', rmse)"
   ]
  }
 ],
 "metadata": {
  "kernelspec": {
   "display_name": "Python 3",
   "language": "python",
   "name": "python3"
  },
  "language_info": {
   "codemirror_mode": {
    "name": "ipython",
    "version": 3
   },
   "file_extension": ".py",
   "mimetype": "text/x-python",
   "name": "python",
   "nbconvert_exporter": "python",
   "pygments_lexer": "ipython3",
   "version": "3.11.9"
  }
 },
 "nbformat": 4,
 "nbformat_minor": 5
}
