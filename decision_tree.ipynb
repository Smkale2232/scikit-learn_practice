{
 "cells": [
  {
   "cell_type": "code",
   "execution_count": 3,
   "id": "aaa4e349",
   "metadata": {},
   "outputs": [
    {
     "name": "stdout",
     "output_type": "stream",
     "text": [
      "This is likely an Tangerine\n"
     ]
    }
   ],
   "source": [
    "from sklearn.tree import DecisionTreeClassifier\n",
    "\n",
    "X = [\n",
    "    [7, 2], #tangerine\n",
    "    [8, 3], #tangerine\n",
    "    [9, 8], #orange\n",
    "    [10, 9] #orange\n",
    "]\n",
    "\n",
    "y = [0, 0, 1, 1]\n",
    "\n",
    "model = DecisionTreeClassifier()\n",
    "\n",
    "model.fit(X, y)\n",
    "\n",
    "size = float(input('Enter the size in Cms: '))\n",
    "shade = float(input('Enter the color shade (1-10): '))\n",
    "\n",
    "prediction = model.predict([[size, shade]])[0]\n",
    "\n",
    "if prediction == 0:\n",
    "    print('This is likely an Tangerine')\n",
    "else:\n",
    "    print('This is likely an Orange')"
   ]
  }
 ],
 "metadata": {
  "kernelspec": {
   "display_name": "Python 3",
   "language": "python",
   "name": "python3"
  },
  "language_info": {
   "codemirror_mode": {
    "name": "ipython",
    "version": 3
   },
   "file_extension": ".py",
   "mimetype": "text/x-python",
   "name": "python",
   "nbconvert_exporter": "python",
   "pygments_lexer": "ipython3",
   "version": "3.11.9"
  }
 },
 "nbformat": 4,
 "nbformat_minor": 5
}
