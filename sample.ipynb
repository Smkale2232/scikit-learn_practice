{
 "cells": [
  {
   "cell_type": "code",
   "execution_count": 1,
   "id": "3526c391",
   "metadata": {},
   "outputs": [
    {
     "name": "stdout",
     "output_type": "stream",
     "text": [
      "     A\n",
      "0  100\n",
      "1    2\n",
      "2    3\n",
      "     A\n",
      "0  100\n",
      "1    2\n",
      "2    3\n"
     ]
    }
   ],
   "source": [
    "import pandas as pd\n",
    "\n",
    "df = pd.DataFrame({\"A\": [1, 2, 3]})\n",
    "\n",
    "# Shallow assignment (reference)\n",
    "df2 = df\n",
    "df2.loc[0, \"A\"] = 100\n",
    "print(df)   # df is also modified\n",
    "\n",
    "# Deep copy (independent object)\n",
    "df3 = df.copy()\n",
    "df3.loc[1, \"A\"] = 200\n",
    "print(df)   # df is NOT modified\n"
   ]
  },
  {
   "cell_type": "code",
   "execution_count": null,
   "id": "138b1c0b",
   "metadata": {},
   "outputs": [],
   "source": []
  }
 ],
 "metadata": {
  "kernelspec": {
   "display_name": "Python 3",
   "language": "python",
   "name": "python3"
  },
  "language_info": {
   "codemirror_mode": {
    "name": "ipython",
    "version": 3
   },
   "file_extension": ".py",
   "mimetype": "text/x-python",
   "name": "python",
   "nbconvert_exporter": "python",
   "pygments_lexer": "ipython3",
   "version": "3.11.9"
  }
 },
 "nbformat": 4,
 "nbformat_minor": 5
}
